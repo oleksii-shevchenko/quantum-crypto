{
 "cells": [
  {
   "cell_type": "code",
   "execution_count": 251,
   "outputs": [],
   "source": [
    "from qiskit import Aer, QuantumCircuit, QuantumRegister, transpile, execute, IBMQ\n",
    "import numpy as np\n",
    "from qiskit.circuit import Qubit\n",
    "from qiskit.providers.aer.backends.aerbackend import AerBackend\n",
    "from qiskit.quantum_info import Operator\n",
    "from qiskit.visualization import plot_histogram\n",
    "from scipy import linalg"
   ],
   "metadata": {
    "collapsed": false,
    "pycharm": {
     "name": "#%%\n"
    }
   }
  },
  {
   "cell_type": "code",
   "execution_count": 252,
   "outputs": [],
   "source": [
    "simulator = Aer.get_backend('qasm_simulator')"
   ],
   "metadata": {
    "collapsed": false,
    "pycharm": {
     "name": "#%%\n"
    }
   }
  },
  {
   "cell_type": "code",
   "execution_count": 253,
   "outputs": [],
   "source": [
    "def load_function_table(name: str) -> list:\n",
    "    file = open(name, 'r')\n",
    "    table = file.read().replace('\\n', ' ').split(' ')\n",
    "    file.close()\n",
    "    for x in range(len(table)):\n",
    "        table[x] = int(table[x], 16)\n",
    "    return table\n"
   ],
   "metadata": {
    "collapsed": false,
    "pycharm": {
     "name": "#%%\n"
    }
   }
  },
  {
   "cell_type": "code",
   "execution_count": 254,
   "outputs": [],
   "source": [
    "def fast_mobius_transform(table: list) -> list:\n",
    "    anf = table.copy()\n",
    "    for i in range(8):\n",
    "        bit_flip = 1 << i\n",
    "        for j in range(1 << 8):\n",
    "            if (j >> i) & 0x1 != 0:\n",
    "                anf[j] = anf[j] ^ anf[j ^ bit_flip]\n",
    "    return anf\n",
    "\n",
    "def anf(table: list) -> list:\n",
    "    return fast_mobius_transform(table)"
   ],
   "metadata": {
    "collapsed": false,
    "pycharm": {
     "name": "#%%\n"
    }
   }
  },
  {
   "cell_type": "code",
   "execution_count": 255,
   "outputs": [],
   "source": [
    "# Full Adder\n",
    "# Register: 0 - x, 1 - y, 2 - carry, 3 - out\n",
    "def simple_full_adder() -> QuantumCircuit:\n",
    "     full_adder = QuantumCircuit(4, name='full_adder')\n",
    "     full_adder.ccx(0, 1, 3)\n",
    "     full_adder.cx(0, 1)\n",
    "     full_adder.ccx(1, 2, 3)\n",
    "     full_adder.cx(1, 2)\n",
    "     full_adder.cx(0, 1)\n",
    "     full_adder.swap(2, 3)\n",
    "     return full_adder\n",
    "\n",
    "full_adder_gate = simple_full_adder().to_gate()\n",
    "full_adder_instruction = simple_full_adder().to_instruction()"
   ],
   "metadata": {
    "collapsed": false,
    "pycharm": {
     "name": "#%%\n"
    }
   }
  },
  {
   "cell_type": "code",
   "execution_count": 256,
   "outputs": [],
   "source": [
    "def full_adder_circuit(length: int) -> QuantumCircuit:\n",
    "    if length < 1:\n",
    "        raise Exception('Register length must be positive number')\n",
    "\n",
    "    if length == 1:\n",
    "        return simple_full_adder()\n",
    "\n",
    "    x = QuantumRegister(length, 'x')\n",
    "    y = QuantumRegister(length, 'y')\n",
    "    out = QuantumRegister(length, 'out')\n",
    "    carry = QuantumRegister(1, 'carry')\n",
    "\n",
    "    adder = QuantumCircuit(x, y, out, carry, name=format(\"add_%s\", str(length)))\n",
    "\n",
    "    for i in range(0, length):\n",
    "        adder.append(full_adder_instruction, [x[i], y[i], carry[0], out[i]])\n",
    "\n",
    "    return adder"
   ],
   "metadata": {
    "collapsed": false,
    "pycharm": {
     "name": "#%%\n"
    }
   }
  },
  {
   "cell_type": "code",
   "execution_count": 257,
   "outputs": [],
   "source": [
    "def xor_circuit(length: int) -> QuantumCircuit:\n",
    "    if length < 1:\n",
    "        raise Exception('Register length must be positive number')\n",
    "\n",
    "    x = QuantumRegister(length, 'x')\n",
    "    y = QuantumRegister(length, 'y')\n",
    "    out = QuantumRegister(length, 'out')\n",
    "\n",
    "    xor = QuantumCircuit(x, y, out, name=format(\"xor_%s\", str(length)))\n",
    "\n",
    "    for i in range(0, length):\n",
    "        xor.cx(x[i], out[i])\n",
    "        xor.cx(y[i], out[i])\n",
    "\n",
    "    return xor"
   ],
   "metadata": {
    "collapsed": false,
    "pycharm": {
     "name": "#%%\n"
    }
   }
  },
  {
   "cell_type": "code",
   "execution_count": 258,
   "outputs": [],
   "source": [
    "def vector_to_indices(v: int) -> list:\n",
    "    ind = []\n",
    "    for i in range(8):\n",
    "        if (v >> i) & 0x1 == 0x1:\n",
    "            ind.append(i)\n",
    "    return ind\n",
    "\n",
    "\n",
    "def s_box_circuit(anf: list, box_name: str) -> QuantumCircuit:\n",
    "    assert len(anf) == (1 << 8)\n",
    "\n",
    "    x = QuantumRegister(8, 'x')\n",
    "    out = QuantumRegister(8, 'out')\n",
    "\n",
    "    circuit = QuantumCircuit(x, out, name=\"s_box_\" + box_name)\n",
    "\n",
    "    for i in range(1 << 8):\n",
    "        if anf[i] != 0:\n",
    "            if i == 0:\n",
    "                for ind in vector_to_indices(anf[i]):\n",
    "                    circuit.x(out[ind])\n",
    "            else:\n",
    "                for ind in vector_to_indices(anf[i]):\n",
    "                    circuit.mcx(x[vector_to_indices(i)], out[ind])\n",
    "\n",
    "    return circuit\n"
   ],
   "metadata": {
    "collapsed": false,
    "pycharm": {
     "name": "#%%\n"
    }
   }
  },
  {
   "cell_type": "code",
   "execution_count": 259,
   "outputs": [],
   "source": [
    "def add_f8_circuit() -> QuantumCircuit:\n",
    "    return xor_circuit(8)"
   ],
   "metadata": {
    "collapsed": false,
    "pycharm": {
     "name": "#%%\n"
    }
   }
  },
  {
   "cell_type": "code",
   "execution_count": 260,
   "outputs": [],
   "source": [
    "# Reduction polynomial x^8 + x^4 + x^3 + x^2 + 1\n",
    "\n",
    "# Reduction matrix\n",
    "\n",
    "Q = np.array([\n",
    "    [1, 0, 1, 1, 1, 0, 0, 0],\n",
    "    [0, 1, 0, 1, 1, 1, 0, 0],\n",
    "    [0, 0, 1, 0, 1, 1, 1, 0],\n",
    "    [0, 0, 0, 1, 0, 1, 1, 1],\n",
    "    [1, 0, 1, 1, 0, 0, 1, 1],\n",
    "    [1, 1, 1, 0, 0, 0, 0, 1],\n",
    "    [1, 1, 0, 0, 1, 0, 0, 0],\n",
    "    [0, 0, 0, 0, 0, 0, 0, 0]\n",
    "])"
   ],
   "metadata": {
    "collapsed": false,
    "pycharm": {
     "name": "#%%\n"
    }
   }
  },
  {
   "cell_type": "code",
   "execution_count": 261,
   "outputs": [
    {
     "name": "stdout",
     "output_type": "stream",
     "text": [
      "[[1 0 0 0 1 1 1 0]\n",
      " [0 1 0 0 0 1 1 0]\n",
      " [1 0 1 0 1 1 0 0]\n",
      " [1 1 0 1 1 0 0 0]\n",
      " [1 1 1 0 0 0 1 0]\n",
      " [0 1 1 1 0 0 0 0]\n",
      " [0 0 1 1 1 0 0 0]\n",
      " [0 0 0 1 1 1 0 0]]\n"
     ]
    }
   ],
   "source": [
    "print(Q.transpose())\n"
   ],
   "metadata": {
    "collapsed": false,
    "pycharm": {
     "name": "#%%\n"
    }
   }
  },
  {
   "cell_type": "code",
   "execution_count": 262,
   "outputs": [],
   "source": [
    "# C-NOT Synthesis\n",
    "\n",
    "Qt = Q.copy().transpose()"
   ],
   "metadata": {
    "collapsed": false,
    "pycharm": {
     "name": "#%%\n"
    }
   }
  },
  {
   "cell_type": "code",
   "execution_count": 263,
   "outputs": [],
   "source": [
    "Qt[2] = Qt[2] ^ Qt[0]\n",
    "Qt[3] = Qt[3] ^ Qt[0]\n",
    "Qt[4] = Qt[4] ^ Qt[0]"
   ],
   "metadata": {
    "collapsed": false,
    "pycharm": {
     "name": "#%%\n"
    }
   }
  },
  {
   "cell_type": "code",
   "execution_count": 264,
   "outputs": [],
   "source": [
    "Qt[3] = Qt[3] ^ Qt[1]\n",
    "Qt[4] = Qt[4] ^ Qt[1]\n",
    "Qt[5] = Qt[5] ^ Qt[1]"
   ],
   "metadata": {
    "collapsed": false,
    "pycharm": {
     "name": "#%%\n"
    }
   }
  },
  {
   "cell_type": "code",
   "execution_count": 265,
   "outputs": [],
   "source": [
    "Qt[4] = Qt[4] ^ Qt[2]\n",
    "Qt[5] = Qt[5] ^ Qt[2]\n",
    "Qt[6] = Qt[6] ^ Qt[2]"
   ],
   "metadata": {
    "collapsed": false,
    "pycharm": {
     "name": "#%%\n"
    }
   }
  },
  {
   "cell_type": "code",
   "execution_count": 266,
   "outputs": [],
   "source": [
    "Qt[5] = Qt[5] ^ Qt[3]\n",
    "Qt[6] = Qt[6] ^ Qt[3]\n",
    "Qt[7] = Qt[7] ^ Qt[3]"
   ],
   "metadata": {
    "collapsed": false,
    "pycharm": {
     "name": "#%%\n"
    }
   }
  },
  {
   "cell_type": "code",
   "execution_count": 267,
   "outputs": [],
   "source": [
    "Qt[6] = Qt[6] ^ Qt[4]\n",
    "Qt[7] = Qt[7] ^ Qt[4]"
   ],
   "metadata": {
    "collapsed": false,
    "pycharm": {
     "name": "#%%\n"
    }
   }
  },
  {
   "cell_type": "code",
   "execution_count": 268,
   "outputs": [],
   "source": [
    "Qt[7] = Qt[7] ^ Qt[5]"
   ],
   "metadata": {
    "collapsed": false,
    "pycharm": {
     "name": "#%%\n"
    }
   }
  },
  {
   "cell_type": "code",
   "execution_count": 269,
   "outputs": [
    {
     "name": "stdout",
     "output_type": "stream",
     "text": [
      "[[1 0 0 0 1 1 1 0]\n",
      " [0 1 0 0 0 1 1 0]\n",
      " [0 0 1 0 0 0 1 0]\n",
      " [0 0 0 1 0 0 0 0]\n",
      " [0 0 0 0 1 0 0 0]\n",
      " [0 0 0 0 0 1 0 0]\n",
      " [0 0 0 0 0 0 1 0]\n",
      " [0 0 0 0 0 0 0 0]]\n"
     ]
    }
   ],
   "source": [
    "print(Qt)"
   ],
   "metadata": {
    "collapsed": false,
    "pycharm": {
     "name": "#%%\n"
    }
   }
  },
  {
   "cell_type": "code",
   "execution_count": 270,
   "outputs": [],
   "source": [
    "Qtt = np.array(Qt).transpose()"
   ],
   "metadata": {
    "collapsed": false,
    "pycharm": {
     "name": "#%%\n"
    }
   }
  },
  {
   "cell_type": "code",
   "execution_count": 271,
   "outputs": [
    {
     "name": "stdout",
     "output_type": "stream",
     "text": [
      "[[1 0 0 0 0 0 0 0]\n",
      " [0 1 0 0 0 0 0 0]\n",
      " [0 0 1 0 0 0 0 0]\n",
      " [0 0 0 1 0 0 0 0]\n",
      " [1 0 0 0 1 0 0 0]\n",
      " [1 1 0 0 0 1 0 0]\n",
      " [1 1 1 0 0 0 1 0]\n",
      " [0 0 0 0 0 0 0 0]]\n"
     ]
    }
   ],
   "source": [
    "print(Qtt)"
   ],
   "metadata": {
    "collapsed": false,
    "pycharm": {
     "name": "#%%\n"
    }
   }
  },
  {
   "cell_type": "code",
   "execution_count": 272,
   "outputs": [],
   "source": [
    "Qtt[4] = Qtt[4] ^ Qtt[0]\n",
    "Qtt[5] = Qtt[5] ^ Qtt[0]\n",
    "Qtt[6] = Qtt[6] ^ Qtt[0]"
   ],
   "metadata": {
    "collapsed": false,
    "pycharm": {
     "name": "#%%\n"
    }
   }
  },
  {
   "cell_type": "code",
   "execution_count": 273,
   "outputs": [],
   "source": [
    "Qtt[5] = Qtt[5] ^ Qtt[1]\n",
    "Qtt[6] = Qtt[6] ^ Qtt[1]"
   ],
   "metadata": {
    "collapsed": false,
    "pycharm": {
     "name": "#%%\n"
    }
   }
  },
  {
   "cell_type": "code",
   "execution_count": 274,
   "outputs": [],
   "source": [
    "Qtt[6] = Qtt[6] ^ Qtt[2]\n"
   ],
   "metadata": {
    "collapsed": false,
    "pycharm": {
     "name": "#%%\n"
    }
   }
  },
  {
   "cell_type": "code",
   "execution_count": 275,
   "outputs": [
    {
     "name": "stdout",
     "output_type": "stream",
     "text": [
      "[[1 0 0 0 0 0 0 0]\n",
      " [0 1 0 0 0 0 0 0]\n",
      " [0 0 1 0 0 0 0 0]\n",
      " [0 0 0 1 0 0 0 0]\n",
      " [0 0 0 0 1 0 0 0]\n",
      " [0 0 0 0 0 1 0 0]\n",
      " [0 0 0 0 0 0 1 0]\n",
      " [0 0 0 0 0 0 0 0]]\n"
     ]
    }
   ],
   "source": [
    "print(Qtt)"
   ],
   "metadata": {
    "collapsed": false,
    "pycharm": {
     "name": "#%%\n"
    }
   }
  },
  {
   "cell_type": "code",
   "execution_count": 276,
   "outputs": [],
   "source": [
    "def qt_reduction_circuit() -> QuantumCircuit:\n",
    "    qt = QuantumCircuit(8, name=\"qt_reduction\")\n",
    "\n",
    "    qt.cx(4, 0)\n",
    "    qt.cx(5, 0)\n",
    "    qt.cx(6, 0)\n",
    "    qt.cx(5, 1)\n",
    "    qt.cx(6, 1)\n",
    "    qt.cx(6, 2)\n",
    "\n",
    "    qt.barrier()\n",
    "\n",
    "    qt.cx(5, 7)\n",
    "    qt.cx(4, 7)\n",
    "    qt.cx(4, 6)\n",
    "    qt.cx(3, 7)\n",
    "    qt.cx(3, 6)\n",
    "    qt.cx(3, 5)\n",
    "    qt.cx(2, 6)\n",
    "    qt.cx(2, 5)\n",
    "    qt.cx(2, 4)\n",
    "    qt.cx(1, 5)\n",
    "    qt.cx(1, 4)\n",
    "    qt.cx(1, 3)\n",
    "    qt.cx(0, 4)\n",
    "    qt.cx(0, 3)\n",
    "    qt.cx(0, 2)\n",
    "\n",
    "    return qt"
   ],
   "metadata": {
    "collapsed": false,
    "pycharm": {
     "name": "#%%\n"
    }
   }
  },
  {
   "cell_type": "code",
   "execution_count": 277,
   "outputs": [],
   "source": [
    "def explode(*registers) -> list:\n",
    "    exploded = []\n",
    "    for reg in registers:\n",
    "        if isinstance(reg, list):\n",
    "            exploded.extend(explode(*reg))\n",
    "        elif isinstance(reg, QuantumRegister):\n",
    "            for index in range(reg.size):\n",
    "                exploded.append(reg[index])\n",
    "        elif isinstance(reg, Qubit):\n",
    "            exploded.append(reg)\n",
    "        else:\n",
    "            raise Exception(\"Unexpected quantum storage type\")\n",
    "    return exploded\n"
   ],
   "metadata": {
    "collapsed": false,
    "pycharm": {
     "name": "#%%\n"
    }
   }
  },
  {
   "cell_type": "code",
   "execution_count": 278,
   "outputs": [],
   "source": [
    "def mult_f8_circuit() -> QuantumCircuit:\n",
    "    x = QuantumRegister(8, 'x')\n",
    "    y = QuantumRegister(8, 'y')\n",
    "    out = QuantumRegister(8, 'out')\n",
    "\n",
    "    mult = QuantumCircuit(x, y, out, name='mult_f8')\n",
    "\n",
    "    for i in range(1, 8):\n",
    "        for j in range(8 - i):\n",
    "            mult.ccx(x[i + j], y[7 - j], out[i - 1])\n",
    "\n",
    "    mult.append(qt_reduction_circuit(), qargs=explode(out))\n",
    "\n",
    "    for i in range(8):\n",
    "        for j in range(i + 1):\n",
    "            mult.ccx(x[j], y[i - j], out[i])\n",
    "\n",
    "    return mult"
   ],
   "metadata": {
    "collapsed": false,
    "pycharm": {
     "name": "#%%\n"
    }
   }
  },
  {
   "cell_type": "code",
   "execution_count": 279,
   "outputs": [],
   "source": [
    "# mult_f8_circuit().draw(output='mpl', filename='./mult_8.png', fold=-1)"
   ],
   "metadata": {
    "collapsed": false,
    "pycharm": {
     "name": "#%%\n"
    }
   }
  },
  {
   "cell_type": "code",
   "execution_count": 280,
   "outputs": [],
   "source": [
    "def add_f64_circuit() -> QuantumCircuit:\n",
    "    return xor_circuit(64)"
   ],
   "metadata": {
    "collapsed": false,
    "pycharm": {
     "name": "#%%\n"
    }
   }
  },
  {
   "cell_type": "code",
   "execution_count": 281,
   "outputs": [],
   "source": [
    "def inplace_add_f64_circuit() -> QuantumCircuit:\n",
    "    return inplace_xor(64)"
   ],
   "metadata": {
    "collapsed": false,
    "pycharm": {
     "name": "#%%\n"
    }
   }
  },
  {
   "cell_type": "code",
   "execution_count": 282,
   "outputs": [],
   "source": [
    "def mult_const_f8_circuit(constant: int, name=None) -> QuantumCircuit:\n",
    "    x = QuantumRegister(8, 'x')\n",
    "    out = QuantumRegister(8, 'out')\n",
    "\n",
    "    const_vector = []\n",
    "    for i in range(8):\n",
    "        const_vector.append((constant >> i) & 0x1)\n",
    "\n",
    "    if name is None:\n",
    "        name = hex(constant)\n",
    "\n",
    "    mult = QuantumCircuit(x, out, name='mult_f8_' + name)\n",
    "\n",
    "    for i in range(1, 8):\n",
    "        for j in range(8 - i):\n",
    "            if const_vector[i + j] == 0x1:\n",
    "                mult.cx(x[7 - j], out[i - 1])\n",
    "\n",
    "    mult.append(qt_reduction_circuit(), qargs=explode(out))\n",
    "\n",
    "    for i in range(8):\n",
    "        for j in range(i + 1):\n",
    "            if const_vector[j] == 0x1:\n",
    "                mult.cx(x[i - j], out[i])\n",
    "\n",
    "    return mult"
   ],
   "metadata": {
    "collapsed": false,
    "pycharm": {
     "name": "#%%\n"
    }
   }
  },
  {
   "cell_type": "code",
   "execution_count": 283,
   "outputs": [],
   "source": [
    "reduction_poly = 0b00011101\n",
    "gf_2_8 = [0x1]\n",
    "\n",
    "elem = 0x1\n",
    "for _ in range(1, 1 << 8):\n",
    "    elem = elem << 1\n",
    "    if elem >> 8 == 0x1:\n",
    "        elem = (elem ^ reduction_poly) & 0xFF\n",
    "    gf_2_8.append(elem)"
   ],
   "metadata": {
    "collapsed": false,
    "pycharm": {
     "name": "#%%\n"
    }
   }
  },
  {
   "cell_type": "code",
   "execution_count": 284,
   "outputs": [],
   "source": [
    "def inplace_xor(length: int):\n",
    "    x = QuantumRegister(length, 'x')\n",
    "    out = QuantumRegister(length, 'out')\n",
    "\n",
    "    circuit = QuantumCircuit(x, out, name='inplace_xor_' + str(length))\n",
    "\n",
    "    for i in range(length):\n",
    "        circuit.cx(x[i], out[i])\n",
    "\n",
    "    return circuit"
   ],
   "metadata": {
    "collapsed": false,
    "pycharm": {
     "name": "#%%\n"
    }
   }
  },
  {
   "cell_type": "code",
   "execution_count": 285,
   "outputs": [],
   "source": [
    "def inplace_add_f8():\n",
    "    x = QuantumRegister(8, 'x')\n",
    "    out = QuantumRegister(8, 'out')\n",
    "\n",
    "    circuit = QuantumCircuit(x, out, name='inplace_add_f8')\n",
    "\n",
    "    for i in range(8):\n",
    "        circuit.cx(x[i], out[i])\n",
    "\n",
    "    return circuit"
   ],
   "metadata": {
    "collapsed": false,
    "pycharm": {
     "name": "#%%\n"
    }
   }
  },
  {
   "cell_type": "code",
   "execution_count": 286,
   "outputs": [],
   "source": [
    "def mult_alpha_f64_circuit() -> QuantumCircuit:\n",
    "    add_f8 = inplace_add_f8().to_instruction()\n",
    "\n",
    "    xs = [QuantumRegister(8, 'x_' + str(i)) for i in range(8)]\n",
    "    outs = [QuantumRegister(8, 'out_' + str(i)) for i in range(8)]\n",
    "\n",
    "    registers = []\n",
    "    registers.extend(xs)\n",
    "    registers.extend(outs)\n",
    "\n",
    "    circuit = QuantumCircuit(*registers, name='mult_alpha_f64')\n",
    "\n",
    "    circuit.append(mult_const_f8_circuit(gf_2_8[2  ], 'b^2'  ), qargs=explode(xs[7], outs[0]))\n",
    "    circuit.append(mult_const_f8_circuit(gf_2_8[70 ], 'b^70' ), qargs=explode(xs[7], outs[3]))\n",
    "    circuit.append(mult_const_f8_circuit(gf_2_8[224], 'b^224'), qargs=explode(xs[7], outs[4]))\n",
    "    circuit.append(add_f8, qargs=explode(outs[0], outs[5]))\n",
    "    circuit.append(mult_const_f8_circuit(gf_2_8[166], 'b^166'), qargs=explode(xs[7], outs[6]))\n",
    "\n",
    "    for i in range(7):\n",
    "        circuit.append(add_f8, qargs=explode(xs[i], outs[i + 1]))\n",
    "\n",
    "    return circuit"
   ],
   "metadata": {
    "collapsed": false,
    "pycharm": {
     "name": "#%%\n"
    }
   }
  },
  {
   "cell_type": "code",
   "execution_count": 287,
   "outputs": [],
   "source": [
    "def mult_inv_alpha_f64_circuit() -> QuantumCircuit:\n",
    "    add_f8 = inplace_add_f8().to_instruction()\n",
    "\n",
    "    xs = [QuantumRegister(8, 'x_' + str(i)) for i in range(8)]\n",
    "    outs = [QuantumRegister(8, 'out_' + str(i)) for i in range(8)]\n",
    "\n",
    "    registers = []\n",
    "    registers.extend(xs)\n",
    "    registers.extend(outs)\n",
    "\n",
    "    circuit = QuantumCircuit(*registers, name='mult_inv_alpha_f64')\n",
    "\n",
    "    circuit.append(mult_const_f8_circuit(gf_2_8[68 ], 'b^68' ), qargs=explode(xs[0], outs[2]))\n",
    "    circuit.append(mult_const_f8_circuit(gf_2_8[222], 'b^222'), qargs=explode(xs[0], outs[3]))\n",
    "    circuit.append(add_f8, qargs=explode(xs[0], outs[4]))\n",
    "    circuit.append(mult_const_f8_circuit(gf_2_8[164], 'b^164'), qargs=explode(xs[0], outs[5]))\n",
    "    circuit.append(mult_const_f8_circuit(gf_2_8[168], 'b^168'), qargs=explode(xs[0], outs[6]))\n",
    "\n",
    "    for i in range(7):\n",
    "        circuit.append(add_f8, qargs=explode(xs[i + 1], outs[i]))\n",
    "\n",
    "    return circuit"
   ],
   "metadata": {
    "collapsed": false,
    "pycharm": {
     "name": "#%%\n"
    }
   }
  },
  {
   "cell_type": "code",
   "execution_count": 288,
   "outputs": [],
   "source": [
    "def not_circuit(length: int) -> QuantumCircuit:\n",
    "    x = QuantumRegister(length, 'x')\n",
    "\n",
    "    circuit = QuantumCircuit(x, name='not')\n",
    "\n",
    "    for i in range(length):\n",
    "        circuit.x(i)\n",
    "\n",
    "    return circuit"
   ],
   "metadata": {
    "collapsed": false,
    "pycharm": {
     "name": "#%%\n"
    }
   }
  },
  {
   "cell_type": "code",
   "execution_count": 289,
   "outputs": [],
   "source": [
    "L = [[0x01, 0x01, 0x05, 0x01, 0x08, 0x6, 0x07, 0x04],\n",
    "    [0x04, 0x01, 0x01, 0x05, 0x01, 0x08, 0x06, 0x07],\n",
    "    [0x07, 0x04, 0x01, 0x01, 0x05, 0x01, 0x08, 0x06],\n",
    "    [0x06, 0x07, 0x04, 0x01, 0x01, 0x05, 0x01, 0x08],\n",
    "    [0x08, 0x06, 0x07, 0x04, 0x01, 0x01, 0x05, 0x01],\n",
    "    [0x01, 0x08, 0x06, 0x07, 0x04, 0x01, 0x01, 0x05],\n",
    "    [0x05, 0x01, 0x08, 0x06, 0x07, 0x04, 0x01, 0x01],\n",
    "    [0x01, 0x05, 0x01, 0x08, 0x06, 0x07, 0x04, 0x01]]"
   ],
   "metadata": {
    "collapsed": false,
    "pycharm": {
     "name": "#%%\n"
    }
   }
  },
  {
   "cell_type": "code",
   "execution_count": 290,
   "outputs": [],
   "source": [
    "def strumok_substitution_circuit() -> QuantumCircuit:\n",
    "    reset_8 = reset_circuit(8)\n",
    "\n",
    "    x = [QuantumRegister(8, 'x_' + str(i)) for i in range(8)]\n",
    "    out = [QuantumRegister(8, 'out_' + str(i)) for i in range(8)]\n",
    "    tmp = QuantumRegister(8, 'tmp')\n",
    "\n",
    "    regs = []\n",
    "    regs.extend(x)\n",
    "    regs.extend(out)\n",
    "    regs.append(tmp)\n",
    "\n",
    "    circuit = QuantumCircuit(*regs, name='strumok_tau')\n",
    "\n",
    "    for i in range(8):\n",
    "        index = i % 4\n",
    "        s_box = s_box_circuit(anf(load_function_table('./sbox/pi_' + str(index) + '.txt')), str(index))\n",
    "\n",
    "        circuit.append(reset_8, qargs=explode(tmp))\n",
    "        circuit.append(s_box, qargs=explode(x[i], tmp))\n",
    "\n",
    "        for j in range(8):\n",
    "            circuit.append(mult_const_f8_circuit(L[j][i]), qargs=explode(tmp, out[j]))\n",
    "\n",
    "    return circuit"
   ],
   "metadata": {
    "collapsed": false,
    "pycharm": {
     "name": "#%%\n"
    }
   }
  },
  {
   "cell_type": "code",
   "execution_count": 291,
   "outputs": [],
   "source": [
    "def swap_circuit(length: int) -> QuantumCircuit:\n",
    "    x = QuantumRegister(length, 'x')\n",
    "    y = QuantumRegister(length, 'y')\n",
    "\n",
    "    circuit = QuantumCircuit(x, y, name='swap_' + str(length))\n",
    "\n",
    "    for i in range(length):\n",
    "        circuit.swap(x[i], y[i])\n",
    "\n",
    "    return circuit"
   ],
   "metadata": {
    "collapsed": false,
    "pycharm": {
     "name": "#%%\n"
    }
   }
  },
  {
   "cell_type": "code",
   "execution_count": 292,
   "outputs": [],
   "source": [
    "def reset_circuit(length: int) -> QuantumCircuit:\n",
    "    x = QuantumRegister(length, 'x')\n",
    "\n",
    "    circuit = QuantumCircuit(x, name='reset_' + str(length))\n",
    "\n",
    "    for i in range(length):\n",
    "        circuit.reset(x[i])\n",
    "\n",
    "    return circuit"
   ],
   "metadata": {
    "collapsed": false,
    "pycharm": {
     "name": "#%%\n"
    }
   }
  },
  {
   "cell_type": "code",
   "execution_count": 293,
   "outputs": [],
   "source": [
    "def strumok_fsm_circuit() -> QuantumCircuit:\n",
    "    x = QuantumRegister(64, 'x')\n",
    "    y = QuantumRegister(64, 'y')\n",
    "    z = QuantumRegister(64, 'z')\n",
    "    out = QuantumRegister(64, 'out')\n",
    "    carry = QuantumRegister(1, 'carry')\n",
    "\n",
    "    circuit = QuantumCircuit(x, y, z, out, carry, name='strumok_fsm')\n",
    "    circuit.append(full_adder_circuit(64), qargs=explode(x, y, out, carry))\n",
    "    circuit.append(inplace_xor(64), qargs=explode(z, out))\n",
    "\n",
    "    return circuit\n"
   ],
   "metadata": {
    "collapsed": false,
    "pycharm": {
     "name": "#%%\n"
    }
   }
  },
  {
   "cell_type": "code",
   "execution_count": 294,
   "outputs": [],
   "source": [
    "def strumok_next_circuit(init_mode=False) -> QuantumCircuit:\n",
    "    swap_64 = swap_circuit(64).to_instruction()\n",
    "    reset_64 = reset_circuit(64).to_instruction()\n",
    "    iadd_f64 = inplace_add_f64_circuit().to_instruction()\n",
    "\n",
    "    # Linear Feedback Shift Register State\n",
    "    s = [QuantumRegister(64, 's_' + str(i)) for i in range(16)]\n",
    "\n",
    "    # Finite State Machine\n",
    "    r_1 = QuantumRegister(64, 'r_1')\n",
    "    r_2 = QuantumRegister(64, 'r_2')\n",
    "\n",
    "    # Ancillary State\n",
    "    tmp = QuantumRegister(64, 'tmp')\n",
    "    carry = QuantumRegister(1, 'carry')\n",
    "\n",
    "    # Circuit Input\n",
    "    regs = []\n",
    "    regs.extend(s)\n",
    "    regs.append(r_1)\n",
    "    regs.append(r_2)\n",
    "    regs.append(tmp)\n",
    "    regs.append(carry)\n",
    "\n",
    "    circuit = QuantumCircuit(*regs, name='strumok_next')\n",
    "\n",
    "    circuit.append(strumok_substitution_circuit(), qargs=explode(r_1, r_2, tmp[0:8]))\n",
    "    circuit.append(reset_64, qargs=explode(r_1))\n",
    "    circuit.append(full_adder_circuit(64), qargs=explode(r_2, s[13], r_1, carry[0]))\n",
    "\n",
    "    circuit.append(reset_64, qargs=explode(tmp))\n",
    "    circuit.append(iadd_f64, qargs=explode(s[13], tmp))\n",
    "    circuit.append(mult_alpha_f64_circuit(), qargs=explode(s[0], tmp))\n",
    "    circuit.append(mult_inv_alpha_f64_circuit(), qargs=explode(s[11], tmp))\n",
    "\n",
    "    if init_mode:\n",
    "        circuit.reset(carry[0])\n",
    "        circuit.append(strumok_fsm_circuit(), qargs=explode(s[15], r_1, r_2, tmp, carry[0]))\n",
    "\n",
    "    # After this rotation s[i] -> s[i - 1], where s[0] -> s[15]\n",
    "    for j in range(14, -1, -1):\n",
    "        circuit.append(swap_64, explode(s[15], s[j]))\n",
    "\n",
    "    circuit.append(reset_64, qargs=explode(s[15]))\n",
    "    circuit.append(iadd_f64, qargs=explode(tmp, s[15]))\n",
    "\n",
    "    return circuit"
   ],
   "metadata": {
    "collapsed": false,
    "pycharm": {
     "name": "#%%\n"
    }
   }
  },
  {
   "cell_type": "code",
   "execution_count": 295,
   "outputs": [],
   "source": [
    "# STRUMOK-256\n",
    "def strumok_init_circuit() -> QuantumCircuit:\n",
    "    not_64 = not_circuit(64).to_instruction()\n",
    "    cnot_64 = inplace_xor(64).to_instruction()\n",
    "    reset_64 = reset_circuit(64).to_instruction()\n",
    "\n",
    "    strumok_next = strumok_next_circuit(True).to_instruction()\n",
    "\n",
    "    # Cipher Input\n",
    "    key = [QuantumRegister(64, 'k_' + str(i)) for i in range(4)]\n",
    "    iv = [QuantumRegister(64, 'iv_' + str(i)) for i in range(4)]\n",
    "\n",
    "    # Linear Feedback Shift Register State\n",
    "    s = [QuantumRegister(64, 's_' + str(i)) for i in range(16)]\n",
    "\n",
    "    # Finite State Machine\n",
    "    r_1 = QuantumRegister(64, 'r_1')\n",
    "    r_2 = QuantumRegister(64, 'r_2')\n",
    "\n",
    "    # Ancillary State\n",
    "    tmp = QuantumRegister(64, 'tmp')\n",
    "    carry = QuantumRegister(1, 'carry')\n",
    "\n",
    "    # Circuit Input\n",
    "    regs = []\n",
    "    regs.extend(key)\n",
    "    regs.extend(iv)\n",
    "    regs.extend(s)\n",
    "    regs.append(r_1)\n",
    "    regs.append(r_2)\n",
    "    regs.append(tmp)\n",
    "    regs.append(carry)\n",
    "\n",
    "    circuit = QuantumCircuit(*regs, name='strumok_init')\n",
    "\n",
    "    circuit.append(cnot_64, qargs=explode(key[0], s[15]))\n",
    "    circuit.append(not_64, qargs=explode(s[15]))\n",
    "    circuit.append(cnot_64, qargs=explode(key[1], s[14]))\n",
    "    circuit.append(cnot_64, qargs=explode(key[2], s[13]))\n",
    "    circuit.append(not_64, qargs=explode(s[13]))\n",
    "    circuit.append(cnot_64, qargs=explode(key[3], s[12]))\n",
    "    circuit.append(cnot_64, qargs=explode(key[0], s[11]))\n",
    "    circuit.append(cnot_64, qargs=explode(key[1], s[10]))\n",
    "    circuit.append(not_64, qargs=explode(s[10]))\n",
    "    circuit.append(cnot_64, qargs=explode(key[2], s[9]))\n",
    "    circuit.append(cnot_64, qargs=explode(key[3], s[8]))\n",
    "    circuit.append(cnot_64, qargs=explode(key[0], s[7]))\n",
    "    circuit.append(not_64, qargs=explode(s[7]))\n",
    "    circuit.append(cnot_64, qargs=explode(key[1], s[6]))\n",
    "    circuit.append(not_64, qargs=explode(s[6]))\n",
    "    circuit.append(cnot_64, qargs=explode(key[2], s[5]))\n",
    "    circuit.append(cnot_64, qargs=explode(iv[3], s[5]))\n",
    "    circuit.append(cnot_64, qargs=explode(key[3], s[4]))\n",
    "    circuit.append(cnot_64, qargs=explode(key[0], s[3]))\n",
    "    circuit.append(cnot_64, qargs=explode(iv[2], s[3]))\n",
    "    circuit.append(cnot_64, qargs=explode(key[1], s[2]))\n",
    "    circuit.append(cnot_64, qargs=explode(iv[1], s[2]))\n",
    "    circuit.append(cnot_64, qargs=explode(key[2], s[1]))\n",
    "    circuit.append(cnot_64, qargs=explode(key[3], s[0]))\n",
    "    circuit.append(cnot_64, qargs=explode(iv[3], s[0]))\n",
    "\n",
    "    for _ in range(32):\n",
    "        circuit.append(strumok_next, qargs=explode(s, r_1, r_2, tmp, carry))\n",
    "        circuit.reset(carry[0])\n",
    "        circuit.append(reset_64, qargs=explode(tmp))\n",
    "\n",
    "    return circuit\n"
   ],
   "metadata": {
    "collapsed": false,
    "pycharm": {
     "name": "#%%\n"
    }
   }
  },
  {
   "cell_type": "code",
   "execution_count": 296,
   "outputs": [],
   "source": [
    "def strumok_stream_circuit() -> QuantumCircuit:\n",
    "    # Linear Feedback Shift Register State\n",
    "    s = [QuantumRegister(64, 's_' + str(i)) for i in range(16)]\n",
    "\n",
    "    # Finite State Machine\n",
    "    r_1 = QuantumRegister(64, 'r_1')\n",
    "    r_2 = QuantumRegister(64, 'r_2')\n",
    "\n",
    "    # Ancillary State\n",
    "    carry = QuantumRegister(1, 'carry')\n",
    "\n",
    "    # Stream output\n",
    "    out = QuantumRegister(64, 'out')\n",
    "\n",
    "    # Circuit Input\n",
    "    regs = []\n",
    "    regs.extend(s)\n",
    "    regs.append(r_1)\n",
    "    regs.append(r_2)\n",
    "    regs.append(carry)\n",
    "    regs.append(out)\n",
    "\n",
    "    circuit = QuantumCircuit(*regs, name='strumok_next')\n",
    "    circuit.append(inplace_add_f64_circuit(), qargs=explode(s[0], out))\n",
    "    circuit.append(strumok_fsm_circuit(), qargs=explode(s[15], r_1, r_2, out, carry))\n",
    "\n",
    "    return circuit\n"
   ],
   "metadata": {
    "collapsed": false,
    "pycharm": {
     "name": "#%%\n"
    }
   }
  }
 ],
 "metadata": {
  "kernelspec": {
   "display_name": "Python 3",
   "language": "python",
   "name": "python3"
  },
  "language_info": {
   "codemirror_mode": {
    "name": "ipython",
    "version": 2
   },
   "file_extension": ".py",
   "mimetype": "text/x-python",
   "name": "python",
   "nbconvert_exporter": "python",
   "pygments_lexer": "ipython2",
   "version": "2.7.6"
  }
 },
 "nbformat": 4,
 "nbformat_minor": 0
}