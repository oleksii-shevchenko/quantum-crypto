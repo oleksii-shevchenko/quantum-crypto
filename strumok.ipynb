{
 "cells": [
  {
   "cell_type": "code",
   "execution_count": 2,
   "outputs": [],
   "source": [
    "from qiskit import Aer, QuantumCircuit, QuantumRegister, transpile, execute, IBMQ\n",
    "import numpy as np\n",
    "from qiskit.circuit import Qubit\n",
    "from qiskit.providers.aer.backends.aerbackend import AerBackend\n",
    "from qiskit.quantum_info import Operator\n",
    "from qiskit.visualization import plot_histogram\n",
    "from scipy import linalg"
   ],
   "metadata": {
    "collapsed": false,
    "pycharm": {
     "name": "#%%\n"
    }
   }
  },
  {
   "cell_type": "code",
   "execution_count": 3,
   "outputs": [],
   "source": [
    "simulator = Aer.get_backend('qasm_simulator')"
   ],
   "metadata": {
    "collapsed": false,
    "pycharm": {
     "name": "#%%\n"
    }
   }
  },
  {
   "cell_type": "code",
   "execution_count": 4,
   "outputs": [],
   "source": [
    "# Full Adder\n",
    "# Register: 0 - x, 1 - y, 2 - carry, 3 - out\n",
    "def simple_full_adder() -> QuantumCircuit:\n",
    "     full_adder = QuantumCircuit(4, name='full_adder')\n",
    "     full_adder.ccx(0, 1, 3)\n",
    "     full_adder.cx(0, 1)\n",
    "     full_adder.ccx(1, 2, 3)\n",
    "     full_adder.cx(1, 2)\n",
    "     full_adder.cx(0, 1)\n",
    "     full_adder.swap(2, 3)\n",
    "     return full_adder\n",
    "\n",
    "full_adder_gate = simple_full_adder().to_gate()\n",
    "full_adder_instruction = simple_full_adder().to_instruction()"
   ],
   "metadata": {
    "collapsed": false,
    "pycharm": {
     "name": "#%%\n"
    }
   }
  },
  {
   "cell_type": "code",
   "execution_count": 5,
   "outputs": [],
   "source": [
    "def full_adder_circuit(length: int) -> QuantumCircuit:\n",
    "    if length < 1:\n",
    "        raise Exception('Register length must be positive number')\n",
    "\n",
    "    if length == 1:\n",
    "        return simple_full_adder()\n",
    "\n",
    "    x = QuantumRegister(length, 'x')\n",
    "    y = QuantumRegister(length, 'y')\n",
    "    out = QuantumRegister(length, 'out')\n",
    "    carry = QuantumRegister(1, 'carry')\n",
    "\n",
    "    adder = QuantumCircuit(x, y, out, carry, name=format(\"add_%s\", str(length)))\n",
    "\n",
    "    for i in range(0, length):\n",
    "        adder.append(full_adder_instruction, [x[i], y[i], out[i], carry[0]])\n",
    "\n",
    "    return adder"
   ],
   "metadata": {
    "collapsed": false,
    "pycharm": {
     "name": "#%%\n"
    }
   }
  },
  {
   "cell_type": "code",
   "execution_count": 6,
   "outputs": [],
   "source": [
    "def xor_circuit(length: int) -> QuantumCircuit:\n",
    "    if length < 1:\n",
    "        raise Exception('Register length must be positive number')\n",
    "\n",
    "    x = QuantumRegister(length, 'x')\n",
    "    y = QuantumRegister(length, 'y')\n",
    "    out = QuantumRegister(length, 'out')\n",
    "\n",
    "    xor = QuantumCircuit(x, y, out, name=format(\"xor_%s\", str(length)))\n",
    "\n",
    "    for i in range(0, length):\n",
    "        xor.cx(x[i], out[i])\n",
    "        xor.cx(y[i], out[i])\n",
    "\n",
    "    return xor"
   ],
   "metadata": {
    "collapsed": false,
    "pycharm": {
     "name": "#%%\n"
    }
   }
  },
  {
   "cell_type": "code",
   "execution_count": 7,
   "outputs": [],
   "source": [
    "def vector_to_indices(v: int) -> list:\n",
    "    ind = []\n",
    "    for i in range(8):\n",
    "        if (v >> i) & 0x1 == 0x1:\n",
    "            ind.append(i)\n",
    "    return ind\n",
    "\n",
    "\n",
    "def s_box_circuit(anf: list, box_name: str) -> QuantumCircuit:\n",
    "    assert len(anf) == (1 << 8)\n",
    "\n",
    "    x = QuantumRegister(8, 'x')\n",
    "    out = QuantumRegister(8, 'out')\n",
    "\n",
    "    circuit = QuantumCircuit(x, out, name=\"s_box_\" + box_name)\n",
    "\n",
    "    for i in range(1 << 8):\n",
    "        if anf[i] != 0:\n",
    "            if i == 0:\n",
    "                for ind in vector_to_indices(anf[i]):\n",
    "                    circuit.x(out[ind])\n",
    "            else:\n",
    "                for ind in vector_to_indices(anf[i]):\n",
    "                    circuit.mcx(x[vector_to_indices(i)], out[ind])\n",
    "\n",
    "    return circuit\n"
   ],
   "metadata": {
    "collapsed": false,
    "pycharm": {
     "name": "#%%\n"
    }
   }
  },
  {
   "cell_type": "code",
   "execution_count": 8,
   "outputs": [],
   "source": [
    "def add_f8_circuit() -> QuantumCircuit:\n",
    "    return xor_circuit(8)"
   ],
   "metadata": {
    "collapsed": false,
    "pycharm": {
     "name": "#%%\n"
    }
   }
  },
  {
   "cell_type": "code",
   "execution_count": 9,
   "outputs": [],
   "source": [
    "# Reduction polynomial x^8 + x^4 + x^3 + x^2 + 1\n",
    "\n",
    "# Reduction matrix\n",
    "\n",
    "Q = np.array([\n",
    "    [1, 0, 1, 1, 1, 0, 0, 0],\n",
    "    [0, 1, 0, 1, 1, 1, 0, 0],\n",
    "    [0, 0, 1, 0, 1, 1, 1, 0],\n",
    "    [0, 0, 0, 1, 0, 1, 1, 1],\n",
    "    [1, 0, 1, 1, 0, 0, 1, 1],\n",
    "    [1, 1, 1, 0, 0, 0, 0, 1],\n",
    "    [1, 1, 0, 0, 1, 0, 0, 0],\n",
    "    [0, 0, 0, 0, 0, 0, 0, 0]\n",
    "])"
   ],
   "metadata": {
    "collapsed": false,
    "pycharm": {
     "name": "#%%\n"
    }
   }
  },
  {
   "cell_type": "code",
   "execution_count": 10,
   "outputs": [
    {
     "name": "stdout",
     "output_type": "stream",
     "text": [
      "[[1 0 0 0 1 1 1 0]\n",
      " [0 1 0 0 0 1 1 0]\n",
      " [1 0 1 0 1 1 0 0]\n",
      " [1 1 0 1 1 0 0 0]\n",
      " [1 1 1 0 0 0 1 0]\n",
      " [0 1 1 1 0 0 0 0]\n",
      " [0 0 1 1 1 0 0 0]\n",
      " [0 0 0 1 1 1 0 0]]\n"
     ]
    }
   ],
   "source": [
    "print(Q.transpose())\n"
   ],
   "metadata": {
    "collapsed": false,
    "pycharm": {
     "name": "#%%\n"
    }
   }
  },
  {
   "cell_type": "code",
   "execution_count": 11,
   "outputs": [],
   "source": [
    "# C-NOT Synthesis\n",
    "\n",
    "Qt = Q.copy().transpose()"
   ],
   "metadata": {
    "collapsed": false,
    "pycharm": {
     "name": "#%%\n"
    }
   }
  },
  {
   "cell_type": "code",
   "execution_count": 12,
   "outputs": [],
   "source": [
    "Qt[2] = Qt[2] ^ Qt[0]\n",
    "Qt[3] = Qt[3] ^ Qt[0]\n",
    "Qt[4] = Qt[4] ^ Qt[0]"
   ],
   "metadata": {
    "collapsed": false,
    "pycharm": {
     "name": "#%%\n"
    }
   }
  },
  {
   "cell_type": "code",
   "execution_count": 13,
   "outputs": [],
   "source": [
    "Qt[3] = Qt[3] ^ Qt[1]\n",
    "Qt[4] = Qt[4] ^ Qt[1]\n",
    "Qt[5] = Qt[5] ^ Qt[1]"
   ],
   "metadata": {
    "collapsed": false,
    "pycharm": {
     "name": "#%%\n"
    }
   }
  },
  {
   "cell_type": "code",
   "execution_count": 14,
   "outputs": [],
   "source": [
    "Qt[4] = Qt[4] ^ Qt[2]\n",
    "Qt[5] = Qt[5] ^ Qt[2]\n",
    "Qt[6] = Qt[6] ^ Qt[2]"
   ],
   "metadata": {
    "collapsed": false,
    "pycharm": {
     "name": "#%%\n"
    }
   }
  },
  {
   "cell_type": "code",
   "execution_count": 15,
   "outputs": [],
   "source": [
    "Qt[5] = Qt[5] ^ Qt[3]\n",
    "Qt[6] = Qt[6] ^ Qt[3]\n",
    "Qt[7] = Qt[7] ^ Qt[3]"
   ],
   "metadata": {
    "collapsed": false,
    "pycharm": {
     "name": "#%%\n"
    }
   }
  },
  {
   "cell_type": "code",
   "execution_count": 16,
   "outputs": [],
   "source": [
    "Qt[6] = Qt[6] ^ Qt[4]\n",
    "Qt[7] = Qt[7] ^ Qt[4]"
   ],
   "metadata": {
    "collapsed": false,
    "pycharm": {
     "name": "#%%\n"
    }
   }
  },
  {
   "cell_type": "code",
   "execution_count": 17,
   "outputs": [],
   "source": [
    "Qt[7] = Qt[7] ^ Qt[5]"
   ],
   "metadata": {
    "collapsed": false,
    "pycharm": {
     "name": "#%%\n"
    }
   }
  },
  {
   "cell_type": "code",
   "execution_count": 18,
   "outputs": [
    {
     "name": "stdout",
     "output_type": "stream",
     "text": [
      "[[1 0 0 0 1 1 1 0]\n",
      " [0 1 0 0 0 1 1 0]\n",
      " [0 0 1 0 0 0 1 0]\n",
      " [0 0 0 1 0 0 0 0]\n",
      " [0 0 0 0 1 0 0 0]\n",
      " [0 0 0 0 0 1 0 0]\n",
      " [0 0 0 0 0 0 1 0]\n",
      " [0 0 0 0 0 0 0 0]]\n"
     ]
    }
   ],
   "source": [
    "print(Qt)"
   ],
   "metadata": {
    "collapsed": false,
    "pycharm": {
     "name": "#%%\n"
    }
   }
  },
  {
   "cell_type": "code",
   "execution_count": 19,
   "outputs": [],
   "source": [
    "Qtt = np.array(Qt).transpose()"
   ],
   "metadata": {
    "collapsed": false,
    "pycharm": {
     "name": "#%%\n"
    }
   }
  },
  {
   "cell_type": "code",
   "execution_count": 20,
   "outputs": [
    {
     "name": "stdout",
     "output_type": "stream",
     "text": [
      "[[1 0 0 0 0 0 0 0]\n",
      " [0 1 0 0 0 0 0 0]\n",
      " [0 0 1 0 0 0 0 0]\n",
      " [0 0 0 1 0 0 0 0]\n",
      " [1 0 0 0 1 0 0 0]\n",
      " [1 1 0 0 0 1 0 0]\n",
      " [1 1 1 0 0 0 1 0]\n",
      " [0 0 0 0 0 0 0 0]]\n"
     ]
    }
   ],
   "source": [
    "print(Qtt)"
   ],
   "metadata": {
    "collapsed": false,
    "pycharm": {
     "name": "#%%\n"
    }
   }
  },
  {
   "cell_type": "code",
   "execution_count": 21,
   "outputs": [],
   "source": [
    "Qtt[4] = Qtt[4] ^ Qtt[0]\n",
    "Qtt[5] = Qtt[5] ^ Qtt[0]\n",
    "Qtt[6] = Qtt[6] ^ Qtt[0]"
   ],
   "metadata": {
    "collapsed": false,
    "pycharm": {
     "name": "#%%\n"
    }
   }
  },
  {
   "cell_type": "code",
   "execution_count": 22,
   "outputs": [],
   "source": [
    "Qtt[5] = Qtt[5] ^ Qtt[1]\n",
    "Qtt[6] = Qtt[6] ^ Qtt[1]"
   ],
   "metadata": {
    "collapsed": false,
    "pycharm": {
     "name": "#%%\n"
    }
   }
  },
  {
   "cell_type": "code",
   "execution_count": 23,
   "outputs": [],
   "source": [
    "Qtt[6] = Qtt[6] ^ Qtt[2]\n"
   ],
   "metadata": {
    "collapsed": false,
    "pycharm": {
     "name": "#%%\n"
    }
   }
  },
  {
   "cell_type": "code",
   "execution_count": 24,
   "outputs": [
    {
     "name": "stdout",
     "output_type": "stream",
     "text": [
      "[[1 0 0 0 0 0 0 0]\n",
      " [0 1 0 0 0 0 0 0]\n",
      " [0 0 1 0 0 0 0 0]\n",
      " [0 0 0 1 0 0 0 0]\n",
      " [0 0 0 0 1 0 0 0]\n",
      " [0 0 0 0 0 1 0 0]\n",
      " [0 0 0 0 0 0 1 0]\n",
      " [0 0 0 0 0 0 0 0]]\n"
     ]
    }
   ],
   "source": [
    "print(Qtt)"
   ],
   "metadata": {
    "collapsed": false,
    "pycharm": {
     "name": "#%%\n"
    }
   }
  },
  {
   "cell_type": "code",
   "execution_count": 25,
   "outputs": [
    {
     "data": {
      "text/plain": "     ┌───┐┌───┐┌───┐                ░                                         »\nq_0: ┤ X ├┤ X ├┤ X ├────────────────░─────────────────────────────────────────»\n     └─┬─┘└─┬─┘└─┬─┘┌───┐┌───┐      ░                                         »\nq_1: ──┼────┼────┼──┤ X ├┤ X ├──────░─────────────────────────────────────────»\n       │    │    │  └─┬─┘└─┬─┘┌───┐ ░                                         »\nq_2: ──┼────┼────┼────┼────┼──┤ X ├─░─────────────────────────────────■────■──»\n       │    │    │    │    │  └─┬─┘ ░                                 │    │  »\nq_3: ──┼────┼────┼────┼────┼────┼───░──────────────────■────■────■────┼────┼──»\n       │    │    │    │    │    │   ░                  │    │    │    │    │  »\nq_4: ──■────┼────┼────┼────┼────┼───░────────■────■────┼────┼────┼────┼────┼──»\n            │    │    │    │    │   ░        │    │    │    │  ┌─┴─┐  │  ┌─┴─┐»\nq_5: ───────■────┼────■────┼────┼───░───■────┼────┼────┼────┼──┤ X ├──┼──┤ X ├»\n                 │         │    │   ░   │    │  ┌─┴─┐  │  ┌─┴─┐└───┘┌─┴─┐└───┘»\nq_6: ────────────■─────────■────■───░───┼────┼──┤ X ├──┼──┤ X ├─────┤ X ├─────»\n                                    ░ ┌─┴─┐┌─┴─┐└───┘┌─┴─┐└───┘     └───┘     »\nq_7: ───────────────────────────────░─┤ X ├┤ X ├─────┤ X ├────────────────────»\n                                    ░ └───┘└───┘     └───┘                    »\n«                                        \n«q_0: ──────────────────────■────■────■──\n«                           │    │    │  \n«q_1: ───────■────■────■────┼────┼────┼──\n«            │    │    │    │    │  ┌─┴─┐\n«q_2: ──■────┼────┼────┼────┼────┼──┤ X ├\n«       │    │    │  ┌─┴─┐  │  ┌─┴─┐└───┘\n«q_3: ──┼────┼────┼──┤ X ├──┼──┤ X ├─────\n«     ┌─┴─┐  │  ┌─┴─┐└───┘┌─┴─┐└───┘     \n«q_4: ┤ X ├──┼──┤ X ├─────┤ X ├──────────\n«     └───┘┌─┴─┐└───┘     └───┘          \n«q_5: ─────┤ X ├─────────────────────────\n«          └───┘                         \n«q_6: ───────────────────────────────────\n«                                        \n«q_7: ───────────────────────────────────\n«                                        ",
      "text/html": "<pre style=\"word-wrap: normal;white-space: pre;background: #fff0;line-height: 1.1;font-family: &quot;Courier New&quot;,Courier,monospace\">     ┌───┐┌───┐┌───┐                ░                                         »\nq_0: ┤ X ├┤ X ├┤ X ├────────────────░─────────────────────────────────────────»\n     └─┬─┘└─┬─┘└─┬─┘┌───┐┌───┐      ░                                         »\nq_1: ──┼────┼────┼──┤ X ├┤ X ├──────░─────────────────────────────────────────»\n       │    │    │  └─┬─┘└─┬─┘┌───┐ ░                                         »\nq_2: ──┼────┼────┼────┼────┼──┤ X ├─░─────────────────────────────────■────■──»\n       │    │    │    │    │  └─┬─┘ ░                                 │    │  »\nq_3: ──┼────┼────┼────┼────┼────┼───░──────────────────■────■────■────┼────┼──»\n       │    │    │    │    │    │   ░                  │    │    │    │    │  »\nq_4: ──■────┼────┼────┼────┼────┼───░────────■────■────┼────┼────┼────┼────┼──»\n            │    │    │    │    │   ░        │    │    │    │  ┌─┴─┐  │  ┌─┴─┐»\nq_5: ───────■────┼────■────┼────┼───░───■────┼────┼────┼────┼──┤ X ├──┼──┤ X ├»\n                 │         │    │   ░   │    │  ┌─┴─┐  │  ┌─┴─┐└───┘┌─┴─┐└───┘»\nq_6: ────────────■─────────■────■───░───┼────┼──┤ X ├──┼──┤ X ├─────┤ X ├─────»\n                                    ░ ┌─┴─┐┌─┴─┐└───┘┌─┴─┐└───┘     └───┘     »\nq_7: ───────────────────────────────░─┤ X ├┤ X ├─────┤ X ├────────────────────»\n                                    ░ └───┘└───┘     └───┘                    »\n«                                        \n«q_0: ──────────────────────■────■────■──\n«                           │    │    │  \n«q_1: ───────■────■────■────┼────┼────┼──\n«            │    │    │    │    │  ┌─┴─┐\n«q_2: ──■────┼────┼────┼────┼────┼──┤ X ├\n«       │    │    │  ┌─┴─┐  │  ┌─┴─┐└───┘\n«q_3: ──┼────┼────┼──┤ X ├──┼──┤ X ├─────\n«     ┌─┴─┐  │  ┌─┴─┐└───┘┌─┴─┐└───┘     \n«q_4: ┤ X ├──┼──┤ X ├─────┤ X ├──────────\n«     └───┘┌─┴─┐└───┘     └───┘          \n«q_5: ─────┤ X ├─────────────────────────\n«          └───┘                         \n«q_6: ───────────────────────────────────\n«                                        \n«q_7: ───────────────────────────────────\n«                                        </pre>"
     },
     "execution_count": 25,
     "metadata": {},
     "output_type": "execute_result"
    }
   ],
   "source": [
    "def qt_reduction_circuit() -> QuantumCircuit:\n",
    "    qt = QuantumCircuit(8, name=\"qt_reduction\")\n",
    "\n",
    "    qt.cx(4, 0)\n",
    "    qt.cx(5, 0)\n",
    "    qt.cx(6, 0)\n",
    "    qt.cx(5, 1)\n",
    "    qt.cx(6, 1)\n",
    "    qt.cx(6, 2)\n",
    "\n",
    "    qt.barrier()\n",
    "\n",
    "    qt.cx(5, 7)\n",
    "    qt.cx(4, 7)\n",
    "    qt.cx(4, 6)\n",
    "    qt.cx(3, 7)\n",
    "    qt.cx(3, 6)\n",
    "    qt.cx(3, 5)\n",
    "    qt.cx(2, 6)\n",
    "    qt.cx(2, 5)\n",
    "    qt.cx(2, 4)\n",
    "    qt.cx(1, 5)\n",
    "    qt.cx(1, 4)\n",
    "    qt.cx(1, 3)\n",
    "    qt.cx(0, 4)\n",
    "    qt.cx(0, 3)\n",
    "    qt.cx(0, 2)\n",
    "\n",
    "    return qt\n",
    "\n",
    "qt_reduction_circuit().draw()"
   ],
   "metadata": {
    "collapsed": false,
    "pycharm": {
     "name": "#%%\n"
    }
   }
  },
  {
   "cell_type": "code",
   "execution_count": null,
   "outputs": [],
   "source": [
    "def explode(*registers) -> list:\n",
    "    exploded = []\n",
    "    for reg in registers:\n",
    "        if isinstance(reg, QuantumRegister):\n",
    "            for index in range(reg.size):\n",
    "                exploded.append(reg[index])\n",
    "        elif isinstance(reg, Qubit):\n",
    "            exploded.append(reg)\n",
    "        else:\n",
    "            raise Exception(\"Unexpected quantum storage type\")\n",
    "    return exploded"
   ],
   "metadata": {
    "collapsed": false,
    "pycharm": {
     "name": "#%%\n"
    }
   }
  },
  {
   "cell_type": "code",
   "execution_count": 67,
   "outputs": [],
   "source": [
    "def mult_f8_circuit() -> QuantumCircuit:\n",
    "    x = QuantumRegister(8, 'x')\n",
    "    y = QuantumRegister(8, 'y')\n",
    "    out = QuantumRegister(8, 'out')\n",
    "\n",
    "    mult = QuantumCircuit(x, y, out, name='mult_f8')\n",
    "\n",
    "    for i in range(1, 8):\n",
    "        for j in range(8 - i):\n",
    "            mult.ccx(x[i + j], y[7 - j], out[i - 1])\n",
    "\n",
    "    mult.append(qt_reduction_circuit(), qargs=explode(out))\n",
    "\n",
    "    for i in range(8):\n",
    "        for j in range(i + 1):\n",
    "            mult.ccx(x[j], y[i - j], out[i])\n",
    "\n",
    "    return mult"
   ],
   "metadata": {
    "collapsed": false,
    "pycharm": {
     "name": "#%%\n"
    }
   }
  },
  {
   "cell_type": "code",
   "execution_count": 36,
   "outputs": [],
   "source": [
    "def add_f64_circuit() -> QuantumCircuit:\n",
    "    return xor_circuit(64)"
   ],
   "metadata": {
    "collapsed": false,
    "pycharm": {
     "name": "#%%\n"
    }
   }
  },
  {
   "cell_type": "code",
   "execution_count": 68,
   "outputs": [],
   "source": [
    "def mult_const_f8_circuit(constant: int, name: str) -> QuantumCircuit:\n",
    "    x = QuantumRegister(8, 'x')\n",
    "    out = QuantumRegister(8, 'out')\n",
    "\n",
    "    const_vector = []\n",
    "    for i in range(8):\n",
    "        const_vector.append((constant >> i) & 0x1)\n",
    "\n",
    "    mult = QuantumCircuit(x, out, name='mult_f8_' + name)\n",
    "\n",
    "    for i in range(1, 8):\n",
    "        for j in range(8 - i):\n",
    "            if const_vector[i + j] == 0x1:\n",
    "                mult.cx(x[7 - j], out[i - 1])\n",
    "\n",
    "    mult.append(qt_reduction_circuit(), qargs=explode(out))\n",
    "\n",
    "    for i in range(8):\n",
    "        for j in range(i + 1):\n",
    "            if const_vector[j] == 0x1:\n",
    "                mult.cx(x[i - j], out[i])\n",
    "\n",
    "    return mult"
   ],
   "metadata": {
    "collapsed": false,
    "pycharm": {
     "name": "#%%\n"
    }
   }
  },
  {
   "cell_type": "code",
   "execution_count": 38,
   "outputs": [],
   "source": [
    "reduction_poly = 0b00011101\n",
    "gf_2_8 = [0x1]\n",
    "\n",
    "elem = 0x1\n",
    "for _ in range(1, 1 << 8):\n",
    "    elem = elem << 1\n",
    "    if elem >> 8 == 0x1:\n",
    "        elem = (elem ^ reduction_poly) & 0xFF\n",
    "    gf_2_8.append(elem)"
   ],
   "metadata": {
    "collapsed": false,
    "pycharm": {
     "name": "#%%\n"
    }
   }
  },
  {
   "cell_type": "code",
   "execution_count": 59,
   "outputs": [],
   "source": [
    "def inplace_add_f8():\n",
    "    x = QuantumRegister(8, 'x')\n",
    "    out = QuantumRegister(8, 'out')\n",
    "\n",
    "    circuit = QuantumCircuit(x, out, name='inplace_add_f8')\n",
    "\n",
    "    for i in range(8):\n",
    "        circuit.cx(x[i], out[i])\n",
    "\n",
    "    return circuit"
   ],
   "metadata": {
    "collapsed": false,
    "pycharm": {
     "name": "#%%\n"
    }
   }
  },
  {
   "cell_type": "code",
   "execution_count": 69,
   "outputs": [],
   "source": [
    "def mult_alpha_f64_circuit() -> QuantumCircuit:\n",
    "    add_f8 = inplace_add_f8().to_instruction()\n",
    "\n",
    "    xs = [QuantumRegister(8, 'x_' + str(i)) for i in range(8)]\n",
    "    outs = [QuantumRegister(8, 'out_' + str(i)) for i in range(8)]\n",
    "\n",
    "    registers = []\n",
    "    registers.extend(xs)\n",
    "    registers.extend(outs)\n",
    "\n",
    "    circuit = QuantumCircuit(*registers, name='mult_alpha_f64')\n",
    "\n",
    "    circuit.append(mult_const_f8_circuit(gf_2_8[2  ], 'b^2'  ), qargs=explode(xs[7], outs[0]))\n",
    "    circuit.append(mult_const_f8_circuit(gf_2_8[70 ], 'b^70' ), qargs=explode(xs[7], outs[3]))\n",
    "    circuit.append(mult_const_f8_circuit(gf_2_8[224], 'b^224'), qargs=explode(xs[7], outs[4]))\n",
    "    circuit.append(add_f8, qargs=explode(outs[0], outs[5]))\n",
    "    circuit.append(mult_const_f8_circuit(gf_2_8[166], 'b^166'), qargs=explode(xs[7], outs[6]))\n",
    "\n",
    "    for i in range(7):\n",
    "        circuit.append(add_f8, qargs=explode(xs[i], outs[i + 1]))\n",
    "\n",
    "    return circuit"
   ],
   "metadata": {
    "collapsed": false,
    "pycharm": {
     "name": "#%%\n"
    }
   }
  },
  {
   "cell_type": "code",
   "execution_count": 63,
   "outputs": [],
   "source": [
    "def mult_inv_alpha_f64_circuit() -> QuantumCircuit:\n",
    "    add_f8 = inplace_add_f8().to_instruction()\n",
    "\n",
    "    xs = [QuantumRegister(8, 'x_' + str(i)) for i in range(8)]\n",
    "    outs = [QuantumRegister(8, 'out_' + str(i)) for i in range(8)]\n",
    "\n",
    "    registers = []\n",
    "    registers.extend(xs)\n",
    "    registers.extend(outs)\n",
    "\n",
    "    circuit = QuantumCircuit(*registers, name='mult_inv_alpha_f64')\n",
    "\n",
    "    circuit.append(mult_const_f8_circuit(gf_2_8[68 ], 'b^68' ), qargs=explode(xs[0], outs[2]))\n",
    "    circuit.append(mult_const_f8_circuit(gf_2_8[222], 'b^222'), qargs=explode(xs[0], outs[3]))\n",
    "    circuit.append(add_f8, qargs=explode(xs[0], outs[4]))\n",
    "    circuit.append(mult_const_f8_circuit(gf_2_8[164], 'b^164'), qargs=explode(xs[0], outs[5]))\n",
    "    circuit.append(mult_const_f8_circuit(gf_2_8[168], 'b^168'), qargs=explode(xs[0], outs[6]))\n",
    "\n",
    "    for i in range(7):\n",
    "        circuit.append(add_f8, qargs=explode(xs[i + 1], outs[i]))\n",
    "\n",
    "    return circuit"
   ],
   "metadata": {
    "collapsed": false,
    "pycharm": {
     "name": "#%%\n"
    }
   }
  }
 ],
 "metadata": {
  "kernelspec": {
   "display_name": "Python 3",
   "language": "python",
   "name": "python3"
  },
  "language_info": {
   "codemirror_mode": {
    "name": "ipython",
    "version": 2
   },
   "file_extension": ".py",
   "mimetype": "text/x-python",
   "name": "python",
   "nbconvert_exporter": "python",
   "pygments_lexer": "ipython2",
   "version": "2.7.6"
  }
 },
 "nbformat": 4,
 "nbformat_minor": 0
}