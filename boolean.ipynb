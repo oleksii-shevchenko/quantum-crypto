{
 "cells": [
  {
   "cell_type": "code",
   "execution_count": 30,
   "metadata": {
    "collapsed": true
   },
   "outputs": [],
   "source": [
    "def load_function_table(name: str) -> list:\n",
    "    file = open(name, 'r')\n",
    "    table = file.read().replace('\\n', ' ').split(' ')\n",
    "    file.close()\n",
    "    for x in range(len(table)):\n",
    "        table[x] = int(table[x], 16)\n",
    "    return table\n"
   ]
  },
  {
   "cell_type": "code",
   "execution_count": 38,
   "outputs": [],
   "source": [
    "def fast_mobius_transform(table: list) -> list:\n",
    "    anf = table.copy()\n",
    "    for i in range(8):\n",
    "        bit_flip = 1 << i\n",
    "        for j in range(1 << 8):\n",
    "            if (j >> i) & 0x1 != 0:\n",
    "                anf[j] = anf[j] ^ anf[j ^ bit_flip]\n",
    "    return anf"
   ],
   "metadata": {
    "collapsed": false,
    "pycharm": {
     "name": "#%%\n"
    }
   }
  }
 ],
 "metadata": {
  "kernelspec": {
   "display_name": "Python 3",
   "language": "python",
   "name": "python3"
  },
  "language_info": {
   "codemirror_mode": {
    "name": "ipython",
    "version": 2
   },
   "file_extension": ".py",
   "mimetype": "text/x-python",
   "name": "python",
   "nbconvert_exporter": "python",
   "pygments_lexer": "ipython2",
   "version": "2.7.6"
  }
 },
 "nbformat": 4,
 "nbformat_minor": 0
}